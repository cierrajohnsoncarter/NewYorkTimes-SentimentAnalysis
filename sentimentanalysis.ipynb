{
  "nbformat": 4,
  "nbformat_minor": 0,
  "metadata": {
    "colab": {
      "name": "sentimentanalysis.ipynb",
      "provenance": [],
      "collapsed_sections": [],
      "authorship_tag": "ABX9TyOc/7JYAhh/T/w3qm01V2c2"
    },
    "kernelspec": {
      "name": "python3",
      "display_name": "Python 3"
    }
  },
  "cells": [
    {
      "cell_type": "markdown",
      "metadata": {
        "id": "EBplazYcybNs",
        "colab_type": "text"
      },
      "source": [
        "Install newspaper3k"
      ]
    },
    {
      "cell_type": "code",
      "metadata": {
        "id": "AIGE4mhFyX9r",
        "colab_type": "code",
        "colab": {}
      },
      "source": [
        "pip install newspaper3k"
      ],
      "execution_count": 0,
      "outputs": []
    },
    {
      "cell_type": "markdown",
      "metadata": {
        "id": "5J5Xk0tLy6N2",
        "colab_type": "text"
      },
      "source": [
        "Import the libraries"
      ]
    },
    {
      "cell_type": "code",
      "metadata": {
        "id": "11WnrBLly_To",
        "colab_type": "code",
        "colab": {}
      },
      "source": [
        "from textblob import TextBlob\n",
        "import nltk\n",
        "from newspaper import Article"
      ],
      "execution_count": 0,
      "outputs": []
    },
    {
      "cell_type": "markdown",
      "metadata": {
        "id": "BHNd0Ik_zHjb",
        "colab_type": "text"
      },
      "source": [
        "Get the article"
      ]
    },
    {
      "cell_type": "code",
      "metadata": {
        "id": "cHDkQzGMzJ2I",
        "colab_type": "code",
        "colab": {}
      },
      "source": [
        "url = 'https://www.nytimes.com/2020/05/08/health/coronavirus-pandemic-curve-scenarios.html'\n",
        "\n",
        "article = Article(url)"
      ],
      "execution_count": 0,
      "outputs": []
    },
    {
      "cell_type": "markdown",
      "metadata": {
        "id": "ELf-yh0pzm78",
        "colab_type": "text"
      },
      "source": [
        "Do some natural language processing"
      ]
    },
    {
      "cell_type": "code",
      "metadata": {
        "id": "H765Naiczqhv",
        "colab_type": "code",
        "colab": {
          "base_uri": "https://localhost:8080/",
          "height": 53
        },
        "outputId": "ff42d47a-5611-4c78-9fd6-5d5b4be84352"
      },
      "source": [
        "article.download()\n",
        "article.parse()\n",
        "nltk.download('punkt')\n",
        "article.nlp()"
      ],
      "execution_count": 6,
      "outputs": [
        {
          "output_type": "stream",
          "text": [
            "[nltk_data] Downloading package punkt to /root/nltk_data...\n",
            "[nltk_data]   Unzipping tokenizers/punkt.zip.\n"
          ],
          "name": "stdout"
        }
      ]
    },
    {
      "cell_type": "markdown",
      "metadata": {
        "id": "wnFwEO6Ez6zT",
        "colab_type": "text"
      },
      "source": [
        "Get the summary of the article"
      ]
    },
    {
      "cell_type": "code",
      "metadata": {
        "id": "XyfxHdjKz9Ye",
        "colab_type": "code",
        "colab": {
          "base_uri": "https://localhost:8080/",
          "height": 73
        },
        "outputId": "49fc9502-8706-435e-c8f7-337b5b465f1b"
      },
      "source": [
        "text = article.summary\n",
        "\n",
        "print(text)"
      ],
      "execution_count": 7,
      "outputs": [
        {
          "output_type": "stream",
          "text": [
            "The green graph represents the corresponding, if very gradual, increase in population immunity.\n",
            "“The ‘herd immunity threshold’ in the model is 55 percent of the population, or the level of immunity that would be needed for the disease to stop spreading in the population without other measures,” Dr. Kissler said.\n"
          ],
          "name": "stdout"
        }
      ]
    },
    {
      "cell_type": "markdown",
      "metadata": {
        "id": "OplaX2_m0Vk7",
        "colab_type": "text"
      },
      "source": [
        "Create a TextBlob object"
      ]
    },
    {
      "cell_type": "code",
      "metadata": {
        "id": "TYLQQCBr0YzQ",
        "colab_type": "code",
        "colab": {
          "base_uri": "https://localhost:8080/",
          "height": 35
        },
        "outputId": "66f62f93-564c-4107-8d02-3736e2afd057"
      },
      "source": [
        "obj = TextBlob(text)\n",
        "\n",
        "# This returns a value between -1 and 1 \n",
        "# If the value is '0' the sentiment is 'neutral'\n",
        "# If the value is > '0' the sentiment is 'positive'\n",
        "# If the value is < '0' the sentiment is 'negative'\n",
        "sentiment = obj.sentiment.polarity\n",
        "print(sentiment)"
      ],
      "execution_count": 8,
      "outputs": [
        {
          "output_type": "stream",
          "text": [
            "-0.041666666666666664\n"
          ],
          "name": "stdout"
        }
      ]
    },
    {
      "cell_type": "markdown",
      "metadata": {
        "id": "PIYj1f8_5E0M",
        "colab_type": "text"
      },
      "source": [
        "Add some if statements to describe what the number value means"
      ]
    },
    {
      "cell_type": "code",
      "metadata": {
        "id": "LLMTc4XE5e9R",
        "colab_type": "code",
        "colab": {
          "base_uri": "https://localhost:8080/",
          "height": 35
        },
        "outputId": "b9f48e93-887b-4162-a729-1b33255c9ae1"
      },
      "source": [
        "if sentiment == 0:\n",
        "  print('The text is neutral')\n",
        "elif sentiment > 0:\n",
        "  print('The text is positive')\n",
        "else:\n",
        "  print('The text is negative')"
      ],
      "execution_count": 9,
      "outputs": [
        {
          "output_type": "stream",
          "text": [
            "The text is negative\n"
          ],
          "name": "stdout"
        }
      ]
    }
  ]
}